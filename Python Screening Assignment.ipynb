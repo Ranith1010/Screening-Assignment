{
 "cells": [
  {
   "cell_type": "code",
   "execution_count": null,
   "metadata": {},
   "outputs": [],
   "source": [
    "#to replace particular text"
   ]
  },
  {
   "cell_type": "code",
   "execution_count": null,
   "metadata": {},
   "outputs": [],
   "source": [
    "def replacetext():\n",
    "    text=input(\"Enter the text:\")\n",
    "    text_to_be_replaced=input(\"Enter the text to be replaced by:\")\n",
    "    with open(\"example.txt\",'r') as f:\n",
    "        file=f.read()\n",
    "        file=file.replace(text,text_to_be_replaced)\n",
    "    with open(\"example.txt\",'w') as w:\n",
    "        w.write(file)"
   ]
  },
  {
   "cell_type": "code",
   "execution_count": 7,
   "metadata": {},
   "outputs": [
    {
     "name": "stdout",
     "output_type": "stream",
     "text": [
      "Enter the text:placement\n",
      "Enter the text to be replaced by:screening\n"
     ]
    }
   ],
   "source": [
    "replacetext()"
   ]
  },
  {
   "cell_type": "code",
   "execution_count": null,
   "metadata": {},
   "outputs": [],
   "source": [
    "#multiple inheritance and abstracton"
   ]
  },
  {
   "cell_type": "code",
   "execution_count": 286,
   "metadata": {},
   "outputs": [],
   "source": [
    "class laptop:  #class 1\n",
    "    \n",
    "    def __init__(self,model_name,cost):\n",
    "        self.__model_name=model_name  #private variable(abstract)\n",
    "        self.cost=cost\n",
    "        \n",
    "    def discount1(self,discount):\n",
    "        return self.cost - discount\n",
    "        \n",
    "class phone:  #class 2\n",
    "    \n",
    "    def __init__(self,phone_name,price):\n",
    "        self.phone_name=phone_name\n",
    "        self.price=price\n",
    "        \n",
    "    def discount2(self,discount):\n",
    "        return self.price- discount\n",
    "        \n",
    "class combo(laptop,phone):  #child class deriving from different parent classes\n",
    "    \n",
    "    def __init__(self,model_name,cost,phone_name,price):\n",
    "        laptop.__init__(self,model_name,cost)\n",
    "        phone.__init__(self,phone_name,price)\n",
    "        print(\"Model_Name : {},Phone_Name: {}\".format(model_name,phone_name))\n",
    "        \n",
    "        \n"
   ]
  },
  {
   "cell_type": "code",
   "execution_count": 287,
   "metadata": {},
   "outputs": [
    {
     "name": "stdout",
     "output_type": "stream",
     "text": [
      "Model_Name : Toshiba,Phone_Name: Samsung\n"
     ]
    }
   ],
   "source": [
    "combo2=combo(\"Toshiba\",5000,\"Samsung\",4000)"
   ]
  },
  {
   "cell_type": "code",
   "execution_count": 269,
   "metadata": {},
   "outputs": [
    {
     "data": {
      "text/plain": [
       "'Samsung'"
      ]
     },
     "execution_count": 269,
     "metadata": {},
     "output_type": "execute_result"
    }
   ],
   "source": [
    "combo2.phone_name"
   ]
  },
  {
   "cell_type": "code",
   "execution_count": 270,
   "metadata": {},
   "outputs": [
    {
     "data": {
      "text/plain": [
       "3000"
      ]
     },
     "execution_count": 270,
     "metadata": {},
     "output_type": "execute_result"
    }
   ],
   "source": [
    "combo2.discount2(1000)"
   ]
  },
  {
   "cell_type": "code",
   "execution_count": 283,
   "metadata": {},
   "outputs": [
    {
     "data": {
      "text/plain": [
       "4000"
      ]
     },
     "execution_count": 283,
     "metadata": {},
     "output_type": "execute_result"
    }
   ],
   "source": [
    "combo2.discount1(1000)"
   ]
  },
  {
   "cell_type": "code",
   "execution_count": null,
   "metadata": {},
   "outputs": [],
   "source": [
    "#Decorator"
   ]
  },
  {
   "cell_type": "code",
   "execution_count": 308,
   "metadata": {},
   "outputs": [],
   "source": [
    "def smart_divide(func):\n",
    "    def inner(a, b):\n",
    "        print(\"divide\", a, \"and\", b)\n",
    "        if b == 0:\n",
    "            print(\"cannot divide\")\n",
    "            return\n",
    "\n",
    "        return func(a, b)\n",
    "    return inner\n",
    "\n",
    "\n",
    "@smart_divide   #decorator  #divide=smart_divide(divide)\n",
    "def divide(a, b):\n",
    "    print(a/b)"
   ]
  },
  {
   "cell_type": "code",
   "execution_count": 309,
   "metadata": {},
   "outputs": [
    {
     "name": "stdout",
     "output_type": "stream",
     "text": [
      "divide 0 and 2\n",
      "0.0\n"
     ]
    }
   ],
   "source": [
    "divide(0,2)"
   ]
  },
  {
   "cell_type": "code",
   "execution_count": null,
   "metadata": {},
   "outputs": [],
   "source": []
  }
 ],
 "metadata": {
  "kernelspec": {
   "display_name": "Python 3",
   "language": "python",
   "name": "python3"
  },
  "language_info": {
   "codemirror_mode": {
    "name": "ipython",
    "version": 3
   },
   "file_extension": ".py",
   "mimetype": "text/x-python",
   "name": "python",
   "nbconvert_exporter": "python",
   "pygments_lexer": "ipython3",
   "version": "3.8.5"
  }
 },
 "nbformat": 4,
 "nbformat_minor": 4
}
